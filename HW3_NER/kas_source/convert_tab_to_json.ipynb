{
 "cells": [
  {
   "cell_type": "code",
   "execution_count": null,
   "metadata": {},
   "outputs": [],
   "source": []
  },
  {
   "cell_type": "markdown",
   "metadata": {},
   "source": [
    "Spacy \n",
    "\n",
    "* NER 101: https://spacy.io/usage/linguistic-features#named-entities\n",
    "* Training: https://spacy.io/usage/training\n",
    "* Spacy-101: https://spacy.io/usage/spacy-101\n",
    "* NER architectures: https://spacy.io/api/architectures#parser\n",
    "```\n",
    "example config:\n",
    "[model]\n",
    "@architectures = \"spacy.TransitionBasedParser.v2\"\n",
    "state_type = \"ner\"\n",
    "extra_state_tokens = false\n",
    "hidden_width = 64\n",
    "maxout_pieces = 2\n",
    "use_upper = true\n",
    "```\n",
    "\n",
    "Set new entities: https://spacy.io/api/doc#set_ents \n",
    "```python\n",
    "# doc.ents = list(doc.ents) + [Span(doc, start, end, label)]\n",
    "\n",
    "from spacy.tokens import Span\n",
    "doc = nlp(\"Mr. Best flew to New York on Saturday morning.\")\n",
    "doc.set_ents([Span(doc, 0, 2, \"PERSON\")])\n",
    "ents = list(doc.ents)\n",
    "assert ents[0].label_ == \"PERSON\"\n",
    "assert ents[0].text == \"Mr. Best\"\n",
    "```\n",
    "\n",
    "Todo: Etiher convert the dataset, or use as is and do doc.set_ents()."
   ]
  },
  {
   "cell_type": "markdown",
   "metadata": {},
   "source": [
    "Input: \n",
    "\n",
    "* It looks like the character spans don't match up with the `sent` text.\n",
    "```json\n",
    "NIST\tannotation-0\tFarmers\t20120211_WAPO_a6be1e92-50de-11e1-bd4f-8a7d53f6d6c2:0-6\tU.S. farmers\tPER;PER.Farmer\tNOM\t1.0\n",
    "NIST\tannotation-1\tU.S.\t20120211_WAPO_a6be1e92-50de-11e1-bd4f-8a7d53f6d6c2:118-121\tUnited States\tGPE;GPE.Country\tNAM\t1.0\n",
    "```\n",
    "\n",
    "output: \n",
    "(Spacy format: https://github.com/explosion/projects/blob/v3/pipelines/ner_demo_update/assets/dev.json)\n",
    "```python\n",
    "[\n",
    "  [\n",
    "    \"Where is Berlin?\",\n",
    "    {\n",
    "      \"entities\":[\n",
    "        [\n",
    "          9,\n",
    "          15,\n",
    "          \"LOC\"\n",
    "        ]\n",
    "      ]\n",
    "    }\n",
    "  ],\n",
    "  [\n",
    "    \"I like Shaka Khan.\",\n",
    "    {\n",
    "      \"entities\":[\n",
    "        [\n",
    "          7,\n",
    "          17,\n",
    "          \"PERSON\"\n",
    "        ]\n",
    "      ]\n",
    "    }\n",
    "  ],\n",
    "]\n",
    "```"
   ]
  },
  {
   "cell_type": "markdown",
   "metadata": {},
   "source": []
  }
 ],
 "metadata": {
  "kernelspec": {
   "display_name": "Python 3",
   "language": "python",
   "name": "python3"
  },
  "language_info": {
   "name": "python",
   "version": "3.10.6 (main, Aug 10 2022, 11:40:04) [GCC 11.3.0]"
  },
  "orig_nbformat": 4,
  "vscode": {
   "interpreter": {
    "hash": "916dbcbb3f70747c44a77c7bcd40155683ae19c65e1c03b4aa3499c5328201f1"
   }
  }
 },
 "nbformat": 4,
 "nbformat_minor": 2
}
