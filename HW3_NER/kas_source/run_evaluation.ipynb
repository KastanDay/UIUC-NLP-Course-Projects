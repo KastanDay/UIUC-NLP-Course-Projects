{
 "cells": [
  {
   "cell_type": "markdown",
   "metadata": {},
   "source": [
    "# Using the scorer\n",
    "\n",
    "```bash\n",
    "cd /home/kastan/githubs/UIUC-NLP-Course-Projects/HW3_NER/utils/rufes/tools/scorer\n",
    "\n",
    "python score_submission.py \\\n",
    "  ../../input/log_specifications.txt \\\n",
    "  /home/kastan/githubs/UIUC-NLP-Course-Projects/HW3_NER/utils/rufes/tools/rufes-evaluation/example/data/gold.tab \\\n",
    "  /home/kastan/githubs/UIUC-NLP-Course-Projects/HW3_NER/utils/rufes/tools/rufes-evaluation/example/data/gold.tab  \\\n",
    "  ./test_1_scores\n",
    "```"
   ]
  },
  {
   "cell_type": "code",
   "execution_count": null,
   "metadata": {},
   "outputs": [],
   "source": []
  }
 ],
 "metadata": {
  "kernelspec": {
   "display_name": "Python 3",
   "language": "python",
   "name": "python3"
  },
  "language_info": {
   "name": "python",
   "version": "3.10.6 (main, Aug 10 2022, 11:40:04) [GCC 11.3.0]"
  },
  "orig_nbformat": 4,
  "vscode": {
   "interpreter": {
    "hash": "916dbcbb3f70747c44a77c7bcd40155683ae19c65e1c03b4aa3499c5328201f1"
   }
  }
 },
 "nbformat": 4,
 "nbformat_minor": 2
}
